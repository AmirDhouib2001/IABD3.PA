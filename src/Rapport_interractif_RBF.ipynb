{
 "cells": [
  {
   "cell_type": "code",
   "execution_count": 24,
   "id": "initial_id",
   "metadata": {
    "collapsed": true,
    "ExecuteTime": {
     "end_time": "2024-06-11T14:34:47.777261100Z",
     "start_time": "2024-06-11T14:34:47.768805500Z"
    }
   },
   "outputs": [],
   "source": [
    "import ctypes\n",
    "from ctypes import POINTER, c_double, c_size_t, c_void_p, Structure\n",
    "\n",
    "# Load the DLL\n",
    "rbf_lib = ctypes.CDLL(\"../library/Rbf_dll.dll\")  # Adjust the path as needed\n",
    "\n",
    "# Define the Point structure\n",
    "class Point(Structure):\n",
    "    _fields_ = [(\"x\", c_double), (\"y\", c_double)]\n",
    "\n",
    "# Define types for the functions\n",
    "create_rbf_network = rbf_lib.create_rbf_network\n",
    "create_rbf_network.argtypes = [c_size_t, c_double, c_size_t]\n",
    "create_rbf_network.restype = c_void_p\n",
    "\n",
    "destroy_rbf_network = rbf_lib.destroy_rbf_network\n",
    "destroy_rbf_network.argtypes = [c_void_p]\n",
    "destroy_rbf_network.restype = None\n",
    "\n",
    "rbf_network_fit = rbf_lib.rbf_network_fit\n",
    "rbf_network_fit.argtypes = [c_void_p, POINTER(Point), c_size_t, POINTER(c_double), c_size_t, c_size_t, c_size_t, c_size_t]\n",
    "\n",
    "rbf_network_predict = rbf_lib.rbf_network_predict\n",
    "rbf_network_predict.argtypes = [c_void_p, POINTER(Point), c_size_t]\n",
    "rbf_network_predict.restype = POINTER(c_double)\n",
    "\n",
    "def convert_to_ctypes(X, Y):\n",
    "    data_points = (Point * len(X))(*[Point(*xy) for xy in X])\n",
    "    flat_Y = (c_double * len(Y))(*[y[0] for y in Y])\n",
    "    return data_points, flat_Y\n",
    "\n"
   ]
  },
  {
   "cell_type": "markdown",
   "source": [
    "# First test Case "
   ],
   "metadata": {
    "collapsed": false
   },
   "id": "8140ece3cd40c8bd"
  },
  {
   "cell_type": "code",
   "outputs": [
    {
     "name": "stdout",
     "output_type": "stream",
     "text": [
      "Input: [1.0, 1.0], Prediction: 1.0000000000000018\n",
      "Input: [2.0, 3.0], Prediction: -0.9999999999999991\n",
      "Input: [3.0, 3.0], Prediction: -5.0\n"
     ]
    }
   ],
   "source": [
    "\n",
    "# Data\n",
    "X = [\n",
    "    [1.0, 1.0],\n",
    "    [2.0, 3.0],\n",
    "    [3.0, 3.0],\n",
    "]\n",
    "Y = [\n",
    "    [1.0],\n",
    "    [-1.0],\n",
    "    [-5.0]\n",
    "]\n",
    "\n",
    "# Create RBF network\n",
    "num_centers = 3\n",
    "gamma = 1.0\n",
    "k = 1\n",
    "rbf_instance = create_rbf_network(num_centers, gamma, k)\n",
    "\n",
    "# Convert data to ctypes\n",
    "data_points, targets = convert_to_ctypes(X, Y)\n",
    "\n",
    "# Train the RBF network\n",
    "num_iterations = 10000\n",
    "rbf_network_fit(rbf_instance, data_points, len(X), targets, len(Y), num_iterations, num_centers, k)\n",
    "\n",
    "# Make predictions\n",
    "predictions = []\n",
    "for x in X:\n",
    "    point = Point(x[0], x[1])\n",
    "    pred = rbf_network_predict(rbf_instance, ctypes.byref(point), 1)\n",
    "    predictions.append(pred[0])\n",
    "    print(f\"Input: {x}, Prediction: {pred[0]}\")\n",
    "\n",
    "# Free the network\n",
    "destroy_rbf_network(rbf_instance)"
   ],
   "metadata": {
    "collapsed": false,
    "ExecuteTime": {
     "end_time": "2024-06-11T14:34:48.629193200Z",
     "start_time": "2024-06-11T14:34:48.071794500Z"
    }
   },
   "id": "d2ad3d54cae80524",
   "execution_count": 25
  },
  {
   "cell_type": "markdown",
   "source": [
    "# XOR Test case\n"
   ],
   "metadata": {
    "collapsed": false
   },
   "id": "3d9fd0e78e3df923"
  },
  {
   "cell_type": "code",
   "outputs": [
    {
     "name": "stdout",
     "output_type": "stream",
     "text": [
      "Input: [0.0, 0.0], Prediction: -0.9999999999999996\n",
      "Input: [0.0, 1.0], Prediction: 1.0000000000000002\n",
      "Input: [1.0, 0.0], Prediction: 1.0\n",
      "Input: [1.0, 1.0], Prediction: -1.0\n"
     ]
    }
   ],
   "source": [
    "X = [\n",
    "    [0.0, 0.0],\n",
    "    [0.0, 1.0],\n",
    "    [1.0, 0.0],\n",
    "    [1.0, 1.0]\n",
    "]\n",
    "\n",
    "Y = [\n",
    "    [-1.0],\n",
    "    [1.0],\n",
    "    [1.0],\n",
    "    [-1.0]\n",
    "]\n",
    "\n",
    "# Create RBF network\n",
    "num_centers = 5\n",
    "gamma = 1.0\n",
    "k = 1\n",
    "rbf_instance = create_rbf_network(num_centers, gamma, k)\n",
    "\n",
    "# Convert data to ctypes\n",
    "data_points, targets = convert_to_ctypes(X, Y)\n",
    "\n",
    "# Train the RBF network\n",
    "num_iterations = 10000\n",
    "rbf_network_fit(rbf_instance, data_points, len(X), targets, len(Y), num_iterations, num_centers, k)\n",
    "\n",
    "# Make predictions\n",
    "predictions = []\n",
    "for x in X:\n",
    "    point = Point(x[0], x[1])\n",
    "    pred = rbf_network_predict(rbf_instance, ctypes.byref(point), 1)\n",
    "    predictions.append(pred[0])\n",
    "    print(f\"Input: {x}, Prediction: {pred[0]}\")\n",
    "\n",
    "# Free the network\n",
    "destroy_rbf_network(rbf_instance)"
   ],
   "metadata": {
    "collapsed": false,
    "ExecuteTime": {
     "end_time": "2024-06-11T14:34:50.776698400Z",
     "start_time": "2024-06-11T14:34:48.626193800Z"
    }
   },
   "id": "69b5a5776b0a959f",
   "execution_count": 26
  },
  {
   "cell_type": "markdown",
   "source": [
    "# Simple Regression Test Cases"
   ],
   "metadata": {
    "collapsed": false
   },
   "id": "4a2322cc23719e59"
  },
  {
   "cell_type": "code",
   "outputs": [
    {
     "name": "stdout",
     "output_type": "stream",
     "text": [
      "Input: [3.0], Prediction: 8.000000000000002\n",
      "Input: [7.0], Prediction: 1.9999999999999996\n"
     ]
    }
   ],
   "source": [
    "X = [\n",
    "    [3.0],\n",
    "    [7.0],\n",
    "]\n",
    "\n",
    "Y = [\n",
    "    [8.0],\n",
    "    [2.0],\n",
    "]\n",
    "# Create RBF network\n",
    "num_centers = 5\n",
    "gamma = 1.0\n",
    "k = 1\n",
    "rbf_instance = create_rbf_network(num_centers, gamma, k)\n",
    "\n",
    "# Convert data to ctypes\n",
    "data_points, targets = convert_to_ctypes(X, Y)\n",
    "\n",
    "# Train the RBF network\n",
    "num_iterations = 10000\n",
    "rbf_network_fit(rbf_instance, data_points, len(X), targets, len(Y), num_iterations, num_centers, k)\n",
    "\n",
    "# Make predictions\n",
    "predictions = []\n",
    "for x in X:\n",
    "    point = Point(x[0])\n",
    "    pred = rbf_network_predict(rbf_instance, ctypes.byref(point), 1)\n",
    "    predictions.append(pred[0])\n",
    "    print(f\"Input: {x}, Prediction: {pred[0]}\")\n",
    "\n",
    "# Free the network\n",
    "destroy_rbf_network(rbf_instance)"
   ],
   "metadata": {
    "collapsed": false,
    "ExecuteTime": {
     "end_time": "2024-06-11T14:34:51.637738300Z",
     "start_time": "2024-06-11T14:34:50.777700100Z"
    }
   },
   "id": "2720b75a218c4788",
   "execution_count": 27
  },
  {
   "cell_type": "markdown",
   "source": [
    "#  Non Linear regression test case "
   ],
   "metadata": {
    "collapsed": false
   },
   "id": "42fabb93463dfb0d"
  },
  {
   "cell_type": "code",
   "outputs": [
    {
     "name": "stdout",
     "output_type": "stream",
     "text": [
      "Input: [3.0], Prediction: 7.999999999999998\n",
      "Input: [7.0], Prediction: 2.000000000000001\n",
      "Input: [9.0], Prediction: -4.000000000000001\n"
     ]
    }
   ],
   "source": [
    "X = [\n",
    "    [3.0],\n",
    "    [7.0],\n",
    "    [9.0],\n",
    "]\n",
    "\n",
    "Y = [\n",
    "    [8.0],\n",
    "    [2.0],\n",
    "    [-4.0],\n",
    "]\n",
    "# Create RBF network\n",
    "num_centers = 5\n",
    "gamma = 1.0\n",
    "k = 1\n",
    "rbf_instance = create_rbf_network(num_centers, gamma, k)\n",
    "\n",
    "# Convert data to ctypes\n",
    "data_points, targets = convert_to_ctypes(X, Y)\n",
    "\n",
    "# Train the RBF network\n",
    "num_iterations = 10000\n",
    "rbf_network_fit(rbf_instance, data_points, len(X), targets, len(Y), num_iterations, num_centers, k)\n",
    "\n",
    "# Make predictions\n",
    "predictions = []\n",
    "for x in X:\n",
    "    point = Point(x[0])\n",
    "    pred = rbf_network_predict(rbf_instance, ctypes.byref(point), 1)\n",
    "    predictions.append(pred[0])\n",
    "    print(f\"Input: {x}, Prediction: {pred[0]}\")\n",
    "\n",
    "# Free the network\n",
    "destroy_rbf_network(rbf_instance)\n"
   ],
   "metadata": {
    "collapsed": false,
    "ExecuteTime": {
     "end_time": "2024-06-11T14:34:52.819096400Z",
     "start_time": "2024-06-11T14:34:51.638738400Z"
    }
   },
   "id": "fcf3f9d097340df",
   "execution_count": 28
  },
  {
   "cell_type": "code",
   "outputs": [],
   "source": [],
   "metadata": {
    "collapsed": false
   },
   "id": "673ea3d56aa8fb78"
  }
 ],
 "metadata": {
  "kernelspec": {
   "display_name": "Python 3",
   "language": "python",
   "name": "python3"
  },
  "language_info": {
   "codemirror_mode": {
    "name": "ipython",
    "version": 2
   },
   "file_extension": ".py",
   "mimetype": "text/x-python",
   "name": "python",
   "nbconvert_exporter": "python",
   "pygments_lexer": "ipython2",
   "version": "2.7.6"
  }
 },
 "nbformat": 4,
 "nbformat_minor": 5
}
