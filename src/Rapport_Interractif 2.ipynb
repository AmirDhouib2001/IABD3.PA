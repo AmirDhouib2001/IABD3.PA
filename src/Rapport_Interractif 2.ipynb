{
 "cells": [
  {
   "cell_type": "code",
   "id": "initial_id",
   "metadata": {
    "collapsed": true,
    "jupyter": {
     "is_executing": true
    }
   },
   "source": [
    "import ctypes\n",
    "from ctypes import POINTER, c_double, c_int, c_void_p, c_int64\n",
    "\n",
    "# Load the DLL\n",
    "linear_model_lib = ctypes.CDLL(\"../library/libMyLinearModel_DLL.dll\")\n",
    "\n",
    "# Define types for the functions\n",
    "create_linear_model = linear_model_lib.create_linear_model\n",
    "create_linear_model.argtypes = [POINTER(c_int64), c_int64]\n",
    "create_linear_model.restype = ctypes.c_void_p\n",
    "\n",
    "destroy_linear_model = linear_model_lib.destroy_linear_model\n",
    "destroy_linear_model.argtypes = [ctypes.c_void_p]\n",
    "destroy_linear_model.restype = None\n",
    "\n",
    "train = linear_model_lib.train\n",
    "train.argtypes = [c_void_p, POINTER(c_double), c_int, c_int, POINTER(c_double), c_int, c_double, c_int, ctypes.c_bool]\n",
    "\n",
    "predict = linear_model_lib.predict\n",
    "predict.argtypes = [c_void_p, POINTER(c_double), c_int, POINTER(c_double), ctypes.c_bool]\n"
   ],
   "outputs": [],
   "execution_count": null
  },
  {
   "metadata": {
    "jupyter": {
     "is_executing": true
    }
   },
   "cell_type": "code",
   "source": [
    "# Training data for a linear model\n",
    "X = [\n",
    "    [3.0],\n",
    "    [7.0],\n",
    "]\n",
    "\n",
    "Y = [\n",
    "    [8.0],\n",
    "    [2.0],\n",
    "]\n",
    "\n",
    "# Create the linear model\n",
    "layers = (c_int64 * 2)(1, 1)\n",
    "linear_model_instance = create_linear_model(layers, 2)\n",
    "\n",
    "# Flatten the inputs and outputs\n",
    "flat_X = (c_double * (len(X) * len(X[0])))(*sum(X, []))\n",
    "flat_Y = (c_double * len(Y))(*(y[0] for y in Y))\n",
    "\n",
    "# Train the linear model\n",
    "train(linear_model_instance, flat_X, len(X), len(X[0]), flat_Y, len(Y[0]), 0.01, 1000, False)\n",
    "\n",
    "# Predict and print results\n",
    "for i in range(len(X)):\n",
    "    test_input = (c_double * len(X[0]))(*X[i])\n",
    "    output = (c_double * 1)()\n",
    "    predict(linear_model_instance, test_input, len(X[0]), output, False)\n",
    "    print(\"Predicted output for input\", X[i], \"is:\", output[0])\n",
    "\n",
    "# Clean up\n",
    "destroy_linear_model(linear_model_instance)\n"
   ],
   "id": "d1dd8f69a8b81a67",
   "outputs": [],
   "execution_count": null
  },
  {
   "metadata": {
    "jupyter": {
     "is_executing": true
    }
   },
   "cell_type": "code",
   "source": [
    "# Another set of training data\n",
    "X = [\n",
    "    [3.0],\n",
    "    [7.0],\n",
    "    [9.0],\n",
    "]\n",
    "\n",
    "Y = [\n",
    "    [8.0],\n",
    "    [2.0],\n",
    "    [6.0],\n",
    "]\n",
    "\n",
    "# Create the linear model\n",
    "layers = (c_int64 * 2)(1, 1)\n",
    "linear_model_instance = create_linear_model(layers, 2)\n",
    "\n",
    "# Flatten the inputs and outputs\n",
    "flat_X = (c_double * (len(X) * len(X[0])))(*sum(X, []))\n",
    "flat_Y = (c_double * len(Y))(*(y[0] for y in Y))\n",
    "\n",
    "# Train the linear model\n",
    "train(linear_model_instance, flat_X, len(X), len(X[0]), flat_Y, len(Y[0]), 0.01, 1000, False)\n",
    "\n",
    "# Predict and print results\n",
    "for i in range(len(X)):\n",
    "    test_input = (c_double * len(X[0]))(*X[i])\n",
    "    output = (c_double * 1)()\n",
    "    predict(linear_model_instance, test_input, len(X[0]), output, False)\n",
    "    print(\"Predicted output for input\", X[i], \"is:\", output[0])\n",
    "\n",
    "# Clean up\n",
    "destroy_linear_model(linear_model_instance)\n"
   ],
   "id": "67dffff6ba906614",
   "outputs": [],
   "execution_count": null
  },
  {
   "metadata": {},
   "cell_type": "code",
   "outputs": [],
   "execution_count": null,
   "source": "",
   "id": "a4f6c888b52fde37"
  }
 ],
 "metadata": {
  "kernelspec": {
   "display_name": "Python 3",
   "language": "python",
   "name": "python3"
  },
  "language_info": {
   "codemirror_mode": {
    "name": "ipython",
    "version": 2
   },
   "file_extension": ".py",
   "mimetype": "text/x-python",
   "name": "python",
   "nbconvert_exporter": "python",
   "pygments_lexer": "ipython2",
   "version": "2.7.6"
  }
 },
 "nbformat": 4,
 "nbformat_minor": 5
}
