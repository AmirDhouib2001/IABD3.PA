{
 "cells": [
  {
   "cell_type": "code",
   "id": "initial_id",
   "metadata": {
    "collapsed": true,
    "jupyter": {
     "is_executing": true
    },
    "ExecuteTime": {
     "end_time": "2024-05-17T14:17:59.252860400Z",
     "start_time": "2024-05-17T14:17:59.062598400Z"
    }
   },
   "source": [
    "import ctypes\n",
    "from ctypes import POINTER, c_double, c_int64, c_void_p\n",
    "\n",
    "# Load the DLL\n",
    "linear_model_lib = ctypes.CDLL(\"../library/Model_Lineaire.dll\")\n",
    "\n",
    "# Define types for the functions\n",
    "create_linear_model = linear_model_lib.create_linear_model\n",
    "create_linear_model.argtypes = [c_int64]\n",
    "create_linear_model.restype = c_void_p\n",
    "\n",
    "destroy_linear_model = linear_model_lib.destroy_linear_model\n",
    "destroy_linear_model.argtypes = [c_void_p]\n",
    "destroy_linear_model.restype = None\n",
    "\n",
    "train = linear_model_lib.train\n",
    "train.argtypes = [c_void_p, POINTER(c_double), c_int64, c_int64, POINTER(c_double), c_double, c_int64]\n",
    "train.restype = None\n",
    "\n",
    "predict = linear_model_lib.predict\n",
    "predict.argtypes = [c_void_p, POINTER(c_double), c_int64, POINTER(c_double)]\n",
    "predict.restype = None\n",
    "\n",
    "# Training data for a linear model\n",
    "X = [\n",
    "    [1.0, 1.0],\n",
    "    [2.0, 3.0],\n",
    "    [3.0, 3.0],\n",
    "]\n",
    "\n",
    "Y = [\n",
    "    -1.0,\n",
    "    1.0,\n",
    "    1.0,\n",
    "]\n",
    "\n",
    "# Create the linear model\n",
    "input_size = c_int64(len(X[0]))\n",
    "linear_model_instance = create_linear_model(input_size)\n",
    "\n",
    "# Flatten the inputs and outputs\n",
    "flat_X = (c_double * (len(X) * len(X[0])))(*sum(X, []))\n",
    "flat_Y = (c_double * len(Y))(*Y)\n",
    "\n",
    "# Train the linear model\n",
    "train(linear_model_instance, flat_X, len(X), len(X[0]), flat_Y, 0.01, 100000)\n",
    "\n",
    "# Predict and print results\n",
    "for i in range(len(X)):\n",
    "    test_input = (c_double * len(X[0]))(*X[i])\n",
    "    output = (c_double * 1)()\n",
    "    predict(linear_model_instance, test_input, len(X[0]), output)\n",
    "    print(\"Predicted output for input\", X[i], \"is:\", output[0])\n",
    "\n",
    "# Clean up\n",
    "destroy_linear_model(linear_model_instance)\n"
   ],
   "outputs": [
    {
     "name": "stdout",
     "output_type": "stream",
     "text": [
      "Predicted output for input [1.0, 1.0] is: -0.9999999999999926\n",
      "Predicted output for input [2.0, 3.0] is: 0.9999999999999958\n",
      "Predicted output for input [3.0, 3.0] is: 0.9999999999999976\n"
     ]
    }
   ],
   "execution_count": 9
  },
  {
   "metadata": {
    "jupyter": {
     "is_executing": true
    },
    "ExecuteTime": {
     "end_time": "2024-05-17T14:20:12.514309800Z",
     "start_time": "2024-05-17T14:20:12.447059400Z"
    }
   },
   "cell_type": "code",
   "source": [
    "X = [\n",
    "    [0.0, 0.0],\n",
    "    [0.0, 1.0],\n",
    "    [1.0, 0.0],\n",
    "]\n",
    "\n",
    "Y = [\n",
    "    -1.0,\n",
    "    1.0,\n",
    "    1.0,\n",
    "]\n",
    "\n",
    "# Create the linear model\n",
    "input_size = c_int64(len(X[0]))\n",
    "linear_model_instance = create_linear_model(input_size)\n",
    "\n",
    "# Flatten the inputs and outputs\n",
    "flat_X = (c_double * (len(X) * len(X[0])))(*sum(X, []))\n",
    "flat_Y = (c_double * len(Y))(*Y)\n",
    "\n",
    "# Train the linear model\n",
    "train(linear_model_instance, flat_X, len(X), len(X[0]), flat_Y, 0.01, 1000)\n",
    "\n",
    "# Predict and print results\n",
    "for i in range(len(X)):\n",
    "    test_input = (c_double * len(X[0]))(*X[i])\n",
    "    output = (c_double * 1)()\n",
    "    predict(linear_model_instance, test_input, len(X[0]), output)\n",
    "    print(\"Predicted output for input\", X[i], \"is:\", output[0])\n",
    "\n",
    "# Clean up\n",
    "destroy_linear_model(linear_model_instance)\n"
   ],
   "id": "d1dd8f69a8b81a67",
   "outputs": [
    {
     "name": "stdout",
     "output_type": "stream",
     "text": [
      "Predicted output for input [0.0, 0.0] is: -0.5092217968973964\n",
      "Predicted output for input [0.0, 1.0] is: 0.8204187646852243\n",
      "Predicted output for input [1.0, 0.0] is: 0.8324495227867692\n"
     ]
    }
   ],
   "execution_count": 10
  },
  {
   "metadata": {
    "jupyter": {
     "is_executing": true
    },
    "ExecuteTime": {
     "end_time": "2024-05-17T12:42:13.215655200Z",
     "start_time": "2024-05-17T12:42:13.191353800Z"
    }
   },
   "cell_type": "code",
   "source": [
    "X = [\n",
    "    [0.0, 0.0],\n",
    "    [0.0, 1.0],\n",
    "    [1.0, 0.0],\n",
    "    [1.0, 1.0]\n",
    "]\n",
    "\n",
    "Y = [\n",
    "    [-1.0],\n",
    "    [1.0],\n",
    "    [1.0],\n",
    "    [-1.0]\n",
    "]\n",
    "# Create the linear model\n",
    "input_size = c_int64(len(X[0]))\n",
    "linear_model_instance = create_linear_model(input_size)\n",
    "\n",
    "# Flatten the inputs and outputs\n",
    "flat_X = (c_double * (len(X) * len(X[0])))(*sum(X, []))\n",
    "flat_Y = (c_double * len(Y))(*Y)\n",
    "\n",
    "# Train the linear model\n",
    "train(linear_model_instance, flat_X, len(X), len(X[0]), flat_Y, 0.01, 1000)\n",
    "\n",
    "# Predict and print results\n",
    "for i in range(len(X)):\n",
    "    test_input = (c_double * len(X[0]))(*X[i])\n",
    "    output = (c_double * 1)()\n",
    "    predict(linear_model_instance, test_input, len(X[0]), output)\n",
    "    print(\"Predicted output for input\", X[i], \"is:\", output[0])\n",
    "\n",
    "# Clean up\n",
    "destroy_linear_model(linear_model_instance)"
   ],
   "id": "67dffff6ba906614",
   "outputs": [
    {
     "ename": "TypeError",
     "evalue": "must be real number, not list",
     "output_type": "error",
     "traceback": [
      "\u001B[1;31m---------------------------------------------------------------------------\u001B[0m",
      "\u001B[1;31mTypeError\u001B[0m                                 Traceback (most recent call last)",
      "Cell \u001B[1;32mIn[6], line 20\u001B[0m\n\u001B[0;32m     18\u001B[0m \u001B[38;5;66;03m# Flatten the inputs and outputs\u001B[39;00m\n\u001B[0;32m     19\u001B[0m flat_X \u001B[38;5;241m=\u001B[39m (c_double \u001B[38;5;241m*\u001B[39m (\u001B[38;5;28mlen\u001B[39m(X) \u001B[38;5;241m*\u001B[39m \u001B[38;5;28mlen\u001B[39m(X[\u001B[38;5;241m0\u001B[39m])))(\u001B[38;5;241m*\u001B[39m\u001B[38;5;28msum\u001B[39m(X, []))\n\u001B[1;32m---> 20\u001B[0m flat_Y \u001B[38;5;241m=\u001B[39m \u001B[43m(\u001B[49m\u001B[43mc_double\u001B[49m\u001B[43m \u001B[49m\u001B[38;5;241;43m*\u001B[39;49m\u001B[43m \u001B[49m\u001B[38;5;28;43mlen\u001B[39;49m\u001B[43m(\u001B[49m\u001B[43mY\u001B[49m\u001B[43m)\u001B[49m\u001B[43m)\u001B[49m\u001B[43m(\u001B[49m\u001B[38;5;241;43m*\u001B[39;49m\u001B[43mY\u001B[49m\u001B[43m)\u001B[49m\n\u001B[0;32m     22\u001B[0m \u001B[38;5;66;03m# Train the linear model\u001B[39;00m\n\u001B[0;32m     23\u001B[0m train(linear_model_instance, flat_X, \u001B[38;5;28mlen\u001B[39m(X), \u001B[38;5;28mlen\u001B[39m(X[\u001B[38;5;241m0\u001B[39m]), flat_Y, \u001B[38;5;241m0.01\u001B[39m, \u001B[38;5;241m1000\u001B[39m)\n",
      "\u001B[1;31mTypeError\u001B[0m: must be real number, not list"
     ]
    }
   ],
   "execution_count": 6
  },
  {
   "metadata": {},
   "cell_type": "code",
   "outputs": [],
   "execution_count": null,
   "source": [],
   "id": "a4f6c888b52fde37"
  }
 ],
 "metadata": {
  "kernelspec": {
   "display_name": "Python 3",
   "language": "python",
   "name": "python3"
  },
  "language_info": {
   "codemirror_mode": {
    "name": "ipython",
    "version": 2
   },
   "file_extension": ".py",
   "mimetype": "text/x-python",
   "name": "python",
   "nbconvert_exporter": "python",
   "pygments_lexer": "ipython2",
   "version": "2.7.6"
  }
 },
 "nbformat": 4,
 "nbformat_minor": 5
}
