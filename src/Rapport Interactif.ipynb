{
 "cells": [
  {
   "cell_type": "code",
   "execution_count": 6,
   "id": "initial_id",
   "metadata": {
    "collapsed": true,
    "ExecuteTime": {
     "end_time": "2024-05-15T15:11:22.021765Z",
     "start_time": "2024-05-15T15:11:21.081775200Z"
    }
   },
   "outputs": [
    {
     "data": {
      "text/plain": "72"
     },
     "execution_count": 6,
     "metadata": {},
     "output_type": "execute_result"
    }
   ],
   "source": [
    "import ctypes\n",
    "from ctypes import POINTER, c_double, c_int, c_void_p\n",
    "\n",
    "# Load the DLL\n",
    "mlp_lib = ctypes.CDLL(\"../library/MyMLP_DLL_TEST.dll\")\n",
    "\n",
    "# Define types for the functions\n",
    "create_mlp = mlp_lib.create_mlp\n",
    "create_mlp.argtypes = [POINTER(c_int), c_int]\n",
    "create_mlp.restype = c_void_p\n",
    "\n",
    "destroy_mlp = mlp_lib.destroy_mlp\n",
    "destroy_mlp.argtypes = [c_void_p]\n",
    "destroy_mlp.restype = None\n",
    "\n",
    "train = mlp_lib.train\n",
    "train.argtypes = [c_void_p, POINTER(c_double), c_int, c_int, POINTER(c_double), c_int, c_double, c_int, ctypes.c_bool]\n",
    "\n",
    "predict = mlp_lib.predict\n",
    "predict.argtypes = [c_void_p, POINTER(c_double), c_int, POINTER(c_double), ctypes.c_bool]\n",
    "\n",
    "# Create the MLP\n",
    "layers = (c_int * 2)(2, 1)\n",
    "mlp_instance = create_mlp(layers, 2)\n",
    "X = [\n",
    "    [0.0, 0.0],\n",
    "    [0.0, 1.0],\n",
    "    [1.0, 0.0]\n",
    "]\n",
    "Y = [\n",
    "    [-1.0],\n",
    "    [1.0],\n",
    "    [-1.0]\n",
    "]\n",
    "# Conversion de X et Y en un format utilisable par ctypes\n",
    "flat_X = (c_double * (len(X) * len(X[0])))(*sum(X, []))\n",
    "flat_Y = (c_double * len(Y))(*(y[0] for y in Y))\n",
    "train(mlp_instance, flat_X, len(X), len(X[0]), flat_Y, 1, 0.1, 1000000, True)\n",
    "\n"
   ]
  },
  {
   "cell_type": "code",
   "outputs": [
    {
     "name": "stdout",
     "output_type": "stream",
     "text": [
      "Predicted output for input [0.0, 0.0] is: -0.9999853834728184\n",
      "Predicted output for input [0.0, 1.0] is: 0.9999900104149317\n",
      "Predicted output for input [1.0, 0.0] is: -0.9999996366061449\n"
     ]
    }
   ],
   "source": [
    "for i in range(len(X)):\n",
    "    test_input = (c_double * len(X[0]))(*X[i])\n",
    "    output = (c_double * 1)()\n",
    "    predict(mlp_instance, test_input, len(X[0]), output, True)\n",
    "    print(\"Predicted output for input\", X[i], \"is:\", output[0])"
   ],
   "metadata": {
    "collapsed": false,
    "ExecuteTime": {
     "end_time": "2024-05-15T15:11:22.862711400Z",
     "start_time": "2024-05-15T15:11:22.844503700Z"
    }
   },
   "id": "c554696d12b9a6dc",
   "execution_count": 7
  },
  {
   "cell_type": "code",
   "outputs": [
    {
     "name": "stdout",
     "output_type": "stream",
     "text": [
      "Predicted output for input [0.0, 0.0] is: -0.49733630179341604\n",
      "Predicted output for input [0.0, 1.0] is: 0.9999818844187249\n",
      "Predicted output for input [1.0, 0.0] is: -0.9999024946857742\n",
      "Predicted output for input [1.0, 1.0] is: 0.9378614148485003\n"
     ]
    }
   ],
   "source": [
    "X = [\n",
    "    [0.0, 0.0],\n",
    "    [0.0, 1.0],\n",
    "    [1.0, 0.0],\n",
    "    [1.0, 1.0]\n",
    "]\n",
    "\n",
    "Y = [\n",
    "    [-1.0],\n",
    "    [1.0],\n",
    "    [1.0],\n",
    "    [-1.0]\n",
    "]\n",
    "layers = (c_int * 3)(2,3,1)\n",
    "mlp_instance = create_mlp(layers, 3)\n",
    "train(mlp_instance, flat_X, len(X), len(X[0]), flat_Y, 1, 0.01, 1000000, True)\n",
    "for i in range(len(X)):\n",
    "    test_input = (c_double * len(X[0]))(*X[i])\n",
    "    output = (c_double * 1)()\n",
    "    predict(mlp_instance, test_input, len(X[0]), output, True)\n",
    "    print(\"Predicted output for input\", X[i], \"is:\", output[0])\n",
    "\n"
   ],
   "metadata": {
    "collapsed": false,
    "ExecuteTime": {
     "end_time": "2024-05-15T15:11:26.455122500Z",
     "start_time": "2024-05-15T15:11:23.640346600Z"
    }
   },
   "id": "91f0ea61ef13a913",
   "execution_count": 8
  },
  {
   "cell_type": "code",
   "outputs": [],
   "source": [],
   "metadata": {
    "collapsed": false
   },
   "id": "5114413be0db06a9"
  }
 ],
 "metadata": {
  "kernelspec": {
   "display_name": "Python 3",
   "language": "python",
   "name": "python3"
  },
  "language_info": {
   "codemirror_mode": {
    "name": "ipython",
    "version": 2
   },
   "file_extension": ".py",
   "mimetype": "text/x-python",
   "name": "python",
   "nbconvert_exporter": "python",
   "pygments_lexer": "ipython2",
   "version": "2.7.6"
  }
 },
 "nbformat": 4,
 "nbformat_minor": 5
}
