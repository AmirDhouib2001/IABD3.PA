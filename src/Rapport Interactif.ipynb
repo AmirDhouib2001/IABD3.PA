{
 "cells": [
  {
   "cell_type": "code",
   "execution_count": 9,
   "id": "initial_id",
   "metadata": {
    "collapsed": true,
    "ExecuteTime": {
     "end_time": "2024-05-16T12:56:09.955095Z",
     "start_time": "2024-05-16T12:56:09.945996100Z"
    }
   },
   "outputs": [],
   "source": [
    "import ctypes\n",
    "from ctypes import POINTER, c_double, c_int, c_void_p, c_int64\n",
    "\n",
    "# Load the DLL\n",
    "mlp_lib = ctypes.CDLL(\"../library/MyMLP_DLL_TEST.dll\")\n",
    "\n",
    "# Define types for the functions\n",
    "create_mlp = mlp_lib.create_mlp\n",
    "create_mlp.argtypes = [POINTER(c_int64), c_int64]\n",
    "create_mlp.restype = ctypes.c_void_p\n",
    "\n",
    "destroy_mlp = mlp_lib.destroy_mlp\n",
    "destroy_mlp.argtypes = [ctypes.c_void_p]\n",
    "destroy_mlp.restype = None\n",
    "\n",
    "train = mlp_lib.train\n",
    "train.argtypes = [c_void_p, POINTER(c_double), c_int, c_int, POINTER(c_double), c_int, c_double, c_int, ctypes.c_bool]\n",
    "\n",
    "predict = mlp_lib.predict\n",
    "predict.argtypes = [c_void_p, POINTER(c_double), c_int, POINTER(c_double), ctypes.c_bool]\n"
   ]
  },
  {
   "cell_type": "code",
   "outputs": [
    {
     "name": "stdout",
     "output_type": "stream",
     "text": [
      "Predicted output for input [0.0, 0.0] is: -0.9966798774210832\n",
      "Predicted output for input [0.0, 1.0] is: 0.9972597942933524\n",
      "Predicted output for input [1.0, 0.0] is: -0.9994545099334499\n"
     ]
    }
   ],
   "source": [
    "X = [\n",
    "    [0.0, 0.0],\n",
    "    [0.0, 1.0],\n",
    "    [1.0, 0.0]\n",
    "]\n",
    "Y = [\n",
    "    [-1.0],\n",
    "    [1.0],\n",
    "    [-1.0]\n",
    "]\n",
    "# Create the MLP\n",
    "layers = (c_int64 * 2)(2, 1)\n",
    "mlp_instance = create_mlp(layers, 2)\n",
    "# Conversion de X et Y en un format utilisable par ctypes\n",
    "flat_X = (c_double * (len(X) * len(X[0])))(*sum(X, []))\n",
    "flat_Y = (c_double * len(Y))(*(y[0] for y in Y))\n",
    "train(mlp_instance, flat_X, len(X), len(X[0]), flat_Y, 1, 0.1, 1000000, True)\n",
    "\n",
    "for i in range(len(X)):\n",
    "    test_input = (c_double * len(X[0]))(*X[i])\n",
    "    output = (c_double * 1)()\n",
    "    predict(mlp_instance, test_input, len(X[0]), output, True)\n",
    "    print(\"Predicted output for input\", X[i], \"is:\", output[0])\n",
    "destroy_mlp(mlp_instance)"
   ],
   "metadata": {
    "collapsed": false,
    "ExecuteTime": {
     "end_time": "2024-05-16T12:56:11.191776300Z",
     "start_time": "2024-05-16T12:56:10.564397700Z"
    }
   },
   "id": "c554696d12b9a6dc",
   "execution_count": 10
  },
  {
   "cell_type": "code",
   "outputs": [
    {
     "name": "stdout",
     "output_type": "stream",
     "text": [
      "Predicted output for input [0.0, 0.0] is: -0.99418732413861\n",
      "Predicted output for input [0.0, 1.0] is: 0.9916717648824497\n",
      "Predicted output for input [1.0, 0.0] is: 0.9940673471167212\n",
      "Predicted output for input [1.0, 1.0] is: -0.9916722463964911\n"
     ]
    }
   ],
   "source": [
    "X = [\n",
    "    [0.0, 0.0],\n",
    "    [0.0, 1.0],\n",
    "    [1.0, 0.0],\n",
    "    [1.0, 1.0]\n",
    "]\n",
    "\n",
    "Y = [\n",
    "    [-1.0],\n",
    "    [1.0],\n",
    "    [1.0],\n",
    "    [-1.0]\n",
    "]\n",
    "layers = (c_int64 * 3)(2,3,1)\n",
    "mlp_instance = create_mlp(layers, 3)\n",
    "\n",
    "flat_X = (c_double * (len(X) * len(X[0])))(*sum(X, []))\n",
    "flat_Y = (c_double * len(Y))(*(y[0] for y in Y))\n",
    "\n",
    "train(mlp_instance, flat_X, len(X), len(X[0]), flat_Y, 1, 0.01, 1000000, True)\n",
    "for i in range(len(X)):\n",
    "    test_input = (c_double * len(X[0]))(*X[i])\n",
    "    output = (c_double * 1)()\n",
    "    predict(mlp_instance, test_input, len(X[0]), output, True)\n",
    "    print(\"Predicted output for input\", X[i], \"is:\", output[0])\n",
    "destroy_mlp(mlp_instance)"
   ],
   "metadata": {
    "collapsed": false,
    "ExecuteTime": {
     "end_time": "2024-05-16T12:56:13.585358100Z",
     "start_time": "2024-05-16T12:56:12.201578Z"
    }
   },
   "id": "91f0ea61ef13a913",
   "execution_count": 11
  },
  {
   "cell_type": "code",
   "outputs": [
    {
     "name": "stdout",
     "output_type": "stream",
     "text": [
      "Predicted output for input [3.0] is: 5.713054223348475\n",
      "Predicted output for input [7.0] is: 5.713060263269588\n"
     ]
    }
   ],
   "source": [
    "X = [\n",
    "    [3.0],\n",
    "    [7.0],\n",
    "]\n",
    "\n",
    "Y = [\n",
    "    [8.0],\n",
    "    [2.0],\n",
    "]\n",
    "\n",
    "# Create an MLP with a hidden layer\n",
    "layers = (c_int64 * 3)(1, 3, 1)\n",
    "mlp_instance = create_mlp(layers, 3)\n",
    "\n",
    "# Flatten the inputs and outputs\n",
    "flat_X = (c_double * (len(X) * len(X[0])))(*sum(X, []))\n",
    "flat_Y = (c_double * len(Y))(*(y[0] for y in Y))\n",
    "\n",
    "# Train the MLP\n",
    "train(mlp_instance, flat_X, len(X), len(X[0]), flat_Y, len(Y[0]), 0.01, 1000000, False)\n",
    "\n",
    "# Predict and print results\n",
    "for i in range(len(X)):\n",
    "    test_input = (c_double * len(X[0]))(*X[i])\n",
    "    output = (c_double * 1)()\n",
    "    predict(mlp_instance, test_input, len(X[0]), output, False)\n",
    "    print(\"Predicted output for input\", X[i], \"is:\", output[0])\n",
    "destroy_mlp(mlp_instance)"
   ],
   "metadata": {
    "collapsed": false,
    "ExecuteTime": {
     "end_time": "2024-05-16T12:58:26.573805Z",
     "start_time": "2024-05-16T12:58:25.397487800Z"
    }
   },
   "id": "5114413be0db06a9",
   "execution_count": 15
  },
  {
   "cell_type": "code",
   "outputs": [
    {
     "name": "stdout",
     "output_type": "stream",
     "text": [
      "Predicted output for input [3.0] is: 5.354773568485786\n",
      "Predicted output for input [7.0] is: 5.3547820930243155\n",
      "Predicted output for input [9.0] is: 5.354782093024838\n"
     ]
    }
   ],
   "source": [
    "X = [\n",
    "    [3.0],\n",
    "    [7.0],\n",
    "    [9.0],\n",
    "]\n",
    "\n",
    "Y = [\n",
    "    [8.0],\n",
    "    [2.0],\n",
    "    [6.0],\n",
    "]\n",
    "layers = (c_int64 * 3)(1, 3, 1)\n",
    "mlp_instance = create_mlp(layers, 3)\n",
    "\n",
    "# Flatten the inputs and outputs\n",
    "flat_X = (c_double * (len(X) * len(X[0])))(*sum(X, []))\n",
    "flat_Y = (c_double * len(Y))(*(y[0] for y in Y))\n",
    "\n",
    "# Train the MLP\n",
    "train(mlp_instance, flat_X, len(X), len(X[0]), flat_Y, len(Y[0]), 0.01, 1000000, False)\n",
    "\n",
    "# Predict and print results\n",
    "for i in range(len(X)):\n",
    "    test_input = (c_double * len(X[0]))(*X[i])\n",
    "    output = (c_double * 1)()\n",
    "    predict(mlp_instance, test_input, len(X[0]), output, False)\n",
    "    print(\"Predicted output for input\", X[i], \"is:\", output[0])\n",
    "destroy_mlp(mlp_instance)"
   ],
   "metadata": {
    "collapsed": false,
    "ExecuteTime": {
     "end_time": "2024-05-16T12:55:23.676417600Z",
     "start_time": "2024-05-16T12:55:22.574392500Z"
    }
   },
   "id": "ea57701bd2a12dd6",
   "execution_count": 6
  },
  {
   "cell_type": "code",
   "outputs": [],
   "source": [],
   "metadata": {
    "collapsed": false,
    "ExecuteTime": {
     "end_time": "2024-05-16T12:55:23.677420700Z",
     "start_time": "2024-05-16T12:55:23.673349400Z"
    }
   },
   "id": "f7e34edaa568371",
   "execution_count": 6
  },
  {
   "cell_type": "code",
   "outputs": [],
   "source": [],
   "metadata": {
    "collapsed": false
   },
   "id": "fbaa3c6647a31a5"
  }
 ],
 "metadata": {
  "kernelspec": {
   "display_name": "Python 3",
   "language": "python",
   "name": "python3"
  },
  "language_info": {
   "codemirror_mode": {
    "name": "ipython",
    "version": 2
   },
   "file_extension": ".py",
   "mimetype": "text/x-python",
   "name": "python",
   "nbconvert_exporter": "python",
   "pygments_lexer": "ipython2",
   "version": "2.7.6"
  }
 },
 "nbformat": 4,
 "nbformat_minor": 5
}
